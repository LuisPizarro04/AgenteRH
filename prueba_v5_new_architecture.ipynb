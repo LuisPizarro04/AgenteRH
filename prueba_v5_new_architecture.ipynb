{
 "cells": [
  {
   "cell_type": "code",
   "id": "initial_id",
   "metadata": {
    "collapsed": true,
    "ExecuteTime": {
     "end_time": "2025-08-04T18:40:25.143307Z",
     "start_time": "2025-08-04T18:40:21.318286Z"
    }
   },
   "source": [
    "%%capture --no-stderr\n",
    "%pip install --quiet -U langchain_openai langchain_core langgraph langchain_community langchain_anthropic langchain_experimental faiss-cpu tiktoken pypdf langchain openai langchain_anthropic langchain_experimental"
   ],
   "outputs": [
    {
     "name": "stderr",
     "output_type": "stream",
     "text": [
      "\n",
      "[notice] A new release of pip is available: 23.2.1 -> 25.1.1\n",
      "[notice] To update, run: python.exe -m pip install --upgrade pip\n"
     ]
    }
   ],
   "execution_count": 92
  },
  {
   "metadata": {
    "ExecuteTime": {
     "end_time": "2025-08-04T18:40:25.180678Z",
     "start_time": "2025-08-04T18:40:25.159823Z"
    }
   },
   "cell_type": "code",
   "source": [
    "# Importación de librerias\n",
    "# LangGraph\n",
    "from langgraph.graph import START, END, StateGraph\n",
    "from langgraph.types import Command\n",
    "from langgraph.prebuilt import create_react_agent\n",
    "\n",
    "# LangChain\n",
    "from langchain_core.messages import HumanMessage\n",
    "from langchain_openai import ChatOpenAI, OpenAIEmbeddings\n",
    "from langchain_community.tools.tavily_search import TavilySearchResults\n",
    "from langchain.tools.retriever import create_retriever_tool\n",
    "from langchain.vectorstores import FAISS\n",
    "from langchain_text_splitters import RecursiveCharacterTextSplitter\n",
    "from langchain_community.document_loaders import PyPDFLoader\n",
    "from langchain_core.prompts import ChatPromptTemplate\n",
    "from langchain_core.messages import AIMessage\n",
    "\n",
    "# Utilidades\n",
    "from typing import TypedDict, Optional, Dict, List, Literal, Annotated\n",
    "from dotenv import load_dotenv, find_dotenv\n",
    "import tiktoken\n",
    "from IPython.display import Image, display"
   ],
   "id": "f55d4dc44dc9623a",
   "outputs": [],
   "execution_count": 93
  },
  {
   "metadata": {
    "ExecuteTime": {
     "end_time": "2025-08-04T18:40:25.218948Z",
     "start_time": "2025-08-04T18:40:25.204815Z"
    }
   },
   "cell_type": "code",
   "source": [
    "# Carga de variables de entorno\n",
    "dotenv_path = find_dotenv()\n",
    "load_dotenv(dotenv_path)"
   ],
   "id": "75fc3a81f4769403",
   "outputs": [
    {
     "data": {
      "text/plain": [
       "True"
      ]
     },
     "execution_count": 94,
     "metadata": {},
     "output_type": "execute_result"
    }
   ],
   "execution_count": 94
  },
  {
   "metadata": {
    "ExecuteTime": {
     "end_time": "2025-08-04T18:40:25.233010Z",
     "start_time": "2025-08-04T18:40:25.226881Z"
    }
   },
   "cell_type": "code",
   "source": [
    "def count_tokens_in_docs(docs, model_name=\"gpt-4o\"):\n",
    "    \"\"\"\n",
    "    Calcula la cantidad total de tokens para una lista de documentos\n",
    "    usando la librería tiktoken.\n",
    "\n",
    "    :param docs: Lista de documentos (por ejemplo, la salida de un loader PDF).\n",
    "    :param model_name: Nombre del modelo para el que queremos simular el conteo.\n",
    "    :return: Número total de tokens en el contenido de los documentos.\n",
    "    \"\"\"\n",
    "    # Obtenemos la codificación que usa el modelo seleccionado\n",
    "    encoding = tiktoken.encoding_for_model(model_name)\n",
    "\n",
    "    total_tokens = 0\n",
    "    for doc in docs:\n",
    "        # doc.page_content es el texto de cada página/documento\n",
    "        text = doc.page_content\n",
    "        total_tokens += len(encoding.encode(text))\n",
    "\n",
    "    return total_tokens"
   ],
   "id": "698b5f9ee7091a37",
   "outputs": [],
   "execution_count": 95
  },
  {
   "metadata": {
    "ExecuteTime": {
     "end_time": "2025-08-04T18:40:25.271332Z",
     "start_time": "2025-08-04T18:40:25.245607Z"
    }
   },
   "cell_type": "code",
   "source": [
    "# 2. CARGA DEL PDF\n",
    "# ----------------------------------------------------------------------------\n",
    "file_path = \"embeddings/manual_rrhh.pdf\"\n",
    "loader = PyPDFLoader(file_path)\n",
    "docs = loader.load()"
   ],
   "id": "8dc70f92890e01b3",
   "outputs": [],
   "execution_count": 96
  },
  {
   "metadata": {
    "ExecuteTime": {
     "end_time": "2025-08-04T18:40:25.910234Z",
     "start_time": "2025-08-04T18:40:25.906025Z"
    }
   },
   "cell_type": "code",
   "source": [
    "# Cantidad de documentos extraídos (páginas, secciones, etc. según PyPDFLoader)\n",
    "print(\"Número de docs cargados:\", len(docs))\n",
    "\n",
    "# Opcional: vista previa de los primeros 100 caracteres de la primera página\n",
    "print(\"Preview contenido:\", docs[0].page_content[0:100])\n",
    "print(\"Metadata:\", docs[0].metadata)"
   ],
   "id": "5b9c41c910da8a1c",
   "outputs": [
    {
     "name": "stdout",
     "output_type": "stream",
     "text": [
      "Número de docs cargados: 1\n",
      "Preview contenido: MANUAL DE RRHH - ICPACIFICO\n",
      "1. VACACIONES\n",
      "Todo trabajador tiene derecho a 15 días hábiles de vacacio\n",
      "Metadata: {'producer': 'PyFPDF 1.7.2 http://pyfpdf.googlecode.com/', 'creator': 'PyPDF', 'creationdate': 'D:20250624201848', 'source': 'embeddings/manual_rrhh.pdf', 'total_pages': 1, 'page': 0, 'page_label': '1'}\n"
     ]
    }
   ],
   "execution_count": 97
  },
  {
   "metadata": {
    "ExecuteTime": {
     "end_time": "2025-08-04T18:40:26.170811Z",
     "start_time": "2025-08-04T18:40:26.129541Z"
    }
   },
   "cell_type": "code",
   "source": [
    "# 3. CONTAR TOKENS ANTES DE HACER NADA\n",
    "# ----------------------------------------------------------------------------\n",
    "tokens_en_documento = count_tokens_in_docs(docs, model_name=\"gpt-4o\")\n",
    "print(\"Tokens en el documento completo:\", tokens_en_documento)"
   ],
   "id": "6853d179f756cffc",
   "outputs": [
    {
     "name": "stdout",
     "output_type": "stream",
     "text": [
      "Tokens en el documento completo: 172\n"
     ]
    }
   ],
   "execution_count": 98
  },
  {
   "metadata": {
    "ExecuteTime": {
     "end_time": "2025-08-04T18:40:26.337987Z",
     "start_time": "2025-08-04T18:40:26.333003Z"
    }
   },
   "cell_type": "code",
   "source": [
    "text_splitter = RecursiveCharacterTextSplitter(chunk_size=500, chunk_overlap=100)\n",
    "splits = text_splitter.split_documents(docs)"
   ],
   "id": "2ababb579f7ce3ca",
   "outputs": [],
   "execution_count": 99
  },
  {
   "metadata": {
    "ExecuteTime": {
     "end_time": "2025-08-04T18:40:28.540643Z",
     "start_time": "2025-08-04T18:40:26.807629Z"
    }
   },
   "cell_type": "code",
   "source": [
    "# Crea los embeddings\n",
    "embeddings = OpenAIEmbeddings()\n",
    "vectorstore = FAISS.from_documents(splits, embeddings)\n",
    "\n",
    "# Crea el retriever\n",
    "# retriever = vectorstore.as_retriever(search_kwargs={\"k\": 3})\n",
    "retriever = vectorstore.as_retriever(search_kwargs={\"k\": 10})"
   ],
   "id": "37409a6e0761a3b4",
   "outputs": [],
   "execution_count": 100
  },
  {
   "metadata": {
    "ExecuteTime": {
     "end_time": "2025-08-04T18:40:28.550541Z",
     "start_time": "2025-08-04T18:40:28.543667Z"
    }
   },
   "cell_type": "code",
   "source": [
    "# Modelo utilizado\n",
    "llm = ChatOpenAI(model=\"gpt-4o\")"
   ],
   "id": "dbf6cb9da723df2d",
   "outputs": [],
   "execution_count": 101
  },
  {
   "metadata": {
    "ExecuteTime": {
     "end_time": "2025-08-04T18:40:28.562306Z",
     "start_time": "2025-08-04T18:40:28.559470Z"
    }
   },
   "cell_type": "code",
   "source": [
    "# Creación del estado\n",
    "class GlobalState(TypedDict): # Estado Globa\n",
    "    graph: str\n",
    "    messages: list[dict] # Es una lista de diccionarios\n",
    "    next: str\n",
    "    task_completed: bool"
   ],
   "id": "7cb5af8abf7d5ff",
   "outputs": [],
   "execution_count": 102
  },
  {
   "metadata": {
    "ExecuteTime": {
     "end_time": "2025-08-04T18:40:28.572475Z",
     "start_time": "2025-08-04T18:40:28.570022Z"
    }
   },
   "cell_type": "code",
   "source": [
    "# Miembros del equipo\n",
    "members = [\"consultas\",]\n",
    "# members = [\"consultas\"]\n",
    "options = members + [\"FINISH\"]"
   ],
   "id": "fea47643adf71361",
   "outputs": [],
   "execution_count": 103
  },
  {
   "metadata": {
    "ExecuteTime": {
     "end_time": "2025-08-04T18:40:28.584249Z",
     "start_time": "2025-08-04T18:40:28.580663Z"
    }
   },
   "cell_type": "code",
   "source": [
    "# Router con opciones para el llm\n",
    "class Router(TypedDict):\n",
    "    \"\"\"Worker to route to next. If no workers needed, route to FINISH.\"\"\"\n",
    "\n",
    "    next: Literal[\"consultas\", \"FINISH\"]\n",
    "#     next: Literal[\"consultas\", \"FINISH\"]\n"
   ],
   "id": "3cab456732da12e2",
   "outputs": [],
   "execution_count": 104
  },
  {
   "metadata": {
    "ExecuteTime": {
     "end_time": "2025-08-04T18:40:29.266675Z",
     "start_time": "2025-08-04T18:40:29.261008Z"
    }
   },
   "cell_type": "code",
   "source": [
    "import json\n",
    "\n",
    "# Definir un nodo info o agent principal\n",
    "system_prompt_amparo = \"\"\"\n",
    "Eres Amparo, una asistente virtual de Constructora del Mar. \n",
    "Solo debes responder con un objeto JSON en el siguiente formato:\n",
    "\n",
    "{\"next\": \"supervisor\"} → si la consulta no es un saludo.\n",
    "{\"next\": \"FINISH\", \"response\": \"Hola, soy Amparo, asistente virtual del equipo de desarrollo humano. ¿En qué te puedo ayudar?\"} → si es un saludo o presentación.\n",
    "\n",
    "Reglas:\n",
    "- Si detectas que el mensaje es un saludo, responde con {\"next\": \"FINISH\", \"response\": ...}\n",
    "- Si es una solicitud que requiere procesamiento o información, responde con {\"next\": \"supervisor\"}\n",
    "- No respondas directamente al usuario, solo devuelve el objeto JSON.\n",
    "\"\"\"\n",
    "\n",
    "\n",
    "# def amparo_node(state: GlobalState) -> Command[Literal[\"supervisor\"]]:\n",
    "def amparo_node(state: GlobalState) -> Command[Literal[\"supervisor\", \"__end__\"]]:\n",
    "    print(\"Este es el mensaje que recibe Amparo: \\n\")\n",
    "    print(state[\"messages\"])\n",
    "    \n",
    "    messages = [{\"role\":\"system\", \"content\":system_prompt_amparo},] + state[\"messages\"]\n",
    "    response = llm.invoke(messages)\n",
    "    print(\"RESPUESTA RAW:\", response)\n",
    "    try:\n",
    "        data = json.loads(response.content)  # Asegúrate que devuelva JSON\n",
    "        goto = data[\"next\"]\n",
    "        if goto == \"FINISH\":\n",
    "            goto = END\n",
    "            return Command(goto=goto, update={\"messages\": state[\"messages\"] + [AIMessage(content=data[\"response\"])]})\n",
    "        return Command(goto=goto, update={\"next\": goto})\n",
    "    except Exception as e:\n",
    "        print(\"ERROR en JSON de Amparo:\", e)\n",
    "        return Command(goto=END, update={\"messages\": state[\"messages\"] + [AIMessage(content=\"Disculpa, no pude procesar tu solicitud.\")]} )\n"
   ],
   "id": "63669fd9a3ce4e54",
   "outputs": [],
   "execution_count": 105
  },
  {
   "metadata": {
    "ExecuteTime": {
     "end_time": "2025-08-04T18:40:45.538670Z",
     "start_time": "2025-08-04T18:40:45.535164Z"
    }
   },
   "cell_type": "code",
   "source": [
    "# Crea una herramienta a partir del retriever\n",
    "retriever_tool = create_retriever_tool(\n",
    "    retriever,\n",
    "    name=\"info_retriever\",\n",
    "    description=\"Busca información en el pdf para responder a las preguntas de los trabajadores.\"\n",
    ")"
   ],
   "id": "66f3f4153b4b2a63",
   "outputs": [],
   "execution_count": 109
  },
  {
   "metadata": {
    "ExecuteTime": {
     "end_time": "2025-08-04T18:40:45.745158Z",
     "start_time": "2025-08-04T18:40:45.736964Z"
    }
   },
   "cell_type": "code",
   "source": [
    "# Crea el agente con la herramienta\n",
    "prompt_retriever = \"\"\"\n",
    "Eres un asistente de RRHH creado para ayudar a nuestro personal con sus preguntas relacionadas con RRHH:\n",
    "Para ello tu única fuente de información es un documento PDF que contiene las información sobre diversos temas relacionados con TRRHH. como permisos,  vacaciones, etc.\n",
    "🔹 Solo puedes responder si la información está presente en ese documento.\n",
    "🔹 Usa herramientas disponibles como 'retriever_tool' para buscar información específica en el documento.\n",
    "🔹 Si no encuentras la información o el usuario solicita hacer o buscar algo fuera de tus capacidades, responde amablemente que por el momento no dispones de esa funcionalidad, pero que tu creador, Luis Pizarro, pronto la integrará.\n",
    "🔹 Actualmente estás en una versión beta: solo puedes procesar **mensajes de texto**. No puedes analizar audios, imágenes ni videos. Si el usuario envía algo diferente a texto, indícale esta limitación de forma cordial.\n",
    "🔹 Nunca inventes información. Si algo no está en el documento, acláralo con honestidad.\n",
    "🔹 Mantén un tono profesional, claro y cordial, como si atendieras a un potencial comprador en una sala de ventas.\n",
    "\"\"\"\n",
    "retriever_agent = create_react_agent(\n",
    "    llm,\n",
    "    tools=[retriever_tool],\n",
    "    prompt=prompt_retriever\n",
    ")"
   ],
   "id": "1e522b08080fcbf2",
   "outputs": [],
   "execution_count": 110
  },
  {
   "metadata": {
    "ExecuteTime": {
     "end_time": "2025-08-04T18:40:46.479594Z",
     "start_time": "2025-08-04T18:40:46.475861Z"
    }
   },
   "cell_type": "code",
   "source": [
    "def retriever_node(state: GlobalState) -> Command[Literal[\"supervisor\", \"__end__\"]]:\n",
    "    result = retriever_agent.invoke(state)\n",
    "    return Command(\n",
    "        goto=\"supervisor\",\n",
    "        update={\n",
    "            \"messages\": result[\"messages\"],\n",
    "            \"task_completed\":True\n",
    "        }\n",
    "    )"
   ],
   "id": "68e1eb61d8f116f",
   "outputs": [],
   "execution_count": 111
  },
  {
   "metadata": {
    "ExecuteTime": {
     "end_time": "2025-08-04T18:40:47.997020Z",
     "start_time": "2025-08-04T18:40:47.994307Z"
    }
   },
   "cell_type": "code",
   "source": [
    "system_prompt_supervisor = \"\"\"Eres un supervisor que coordina un equipo de trabajadores especializados para completar tareas. Tu equipo está formado por: 'consulta'\n",
    "Para cada solicitud de usuario , deberas:\n",
    "1. Analizar la solicitud y determinar qué trabajador es el más adecuado para gestionarla.\n",
    "2. Responder SOLO con un objeto JSON en el formato: {\"next\": \"worker_name\"}.\n",
    "3. Revisar su respuesta y:\n",
    "- Elegir al siguiente trabajador si se necesita más trabajo (por ejemplo, {\"next\": \"consultas\"}).\n",
    "- Responder con {\"next\": \"FINISH\"} al finalizar la tarea.\n",
    "Responder siempre con un objeto JSON válido que contenga solo la clave \"next\" y un único valor: el nombre de un trabajador o \"FINISH\".\n",
    "Miembros del equipo:\n",
    "- `consulta`: Buscar información en un pdf que contiene información correspondiente al equipo de recursos humanos.\"\"\""
   ],
   "id": "5c677bb735e2ee5f",
   "outputs": [],
   "execution_count": 112
  },
  {
   "metadata": {
    "ExecuteTime": {
     "end_time": "2025-08-04T18:40:48.644227Z",
     "start_time": "2025-08-04T18:40:48.639362Z"
    }
   },
   "cell_type": "code",
   "source": [
    "# def supervisor_node(state: GlobalState) -> Command[Literal[\"consultas\",\"__end__\"]]:\n",
    "def supervisor_node(state: GlobalState) -> Command[Literal[\"consultas\", \"__end__\"]]:\n",
    "    print(\"Mensaje recibido por el supervisor: \\n\", state[\"messages\"])\n",
    "     # ✅ Si la tarea ya está resuelta, termina el flujo\n",
    "    if state.get(\"task_completed\") is True:\n",
    "        print(\"✅ Tarea completada. Finalizando flujo.\")\n",
    "        return Command(goto=END)\n",
    "    messages = [{\"role\": \"system\", \"content\": system_prompt_supervisor}] + state[\"messages\"]\n",
    "    try:\n",
    "        response = llm.with_structured_output(Router).invoke(messages)\n",
    "        goto = response[\"next\"]\n",
    "        print(\"Supervisor dirige a:\", goto)\n",
    "        if goto == \"FINISH\":\n",
    "            goto = END\n",
    "        return Command(goto=goto, update={\"next\": goto})\n",
    "    except Exception as e:\n",
    "        print(\"Error en la decisión del supervisor:\", e)\n",
    "        return Command(goto=END, update={\"messages\": state[\"messages\"] + [AIMessage(content=\"No pude decidir a quién derivar tu solicitud.\")],\n",
    "                                          \"task_completed\": True})\n"
   ],
   "id": "95ea9cbf01456f8a",
   "outputs": [],
   "execution_count": 113
  },
  {
   "metadata": {
    "ExecuteTime": {
     "end_time": "2025-08-04T18:40:49.733954Z",
     "start_time": "2025-08-04T18:40:49.471302Z"
    }
   },
   "cell_type": "code",
   "source": [
    "builder = StateGraph(GlobalState)\n",
    "# builder.add_edge(START, \"supervisor\")\n",
    "builder.add_edge(START, \"amparo\")\n",
    "builder.add_node(\"amparo\", amparo_node)\n",
    "builder.add_node(\"supervisor\", supervisor_node)\n",
    "builder.add_node(\"consultas\",retriever_node)\n",
    "\n",
    "graph =  builder.compile()\n",
    "display(Image(graph.get_graph().draw_mermaid_png()))"
   ],
   "id": "d96272851abe66a9",
   "outputs": [
    {
     "data": {
      "image/png": "[encoded data removed]",
      "text/plain": [
       "<IPython.core.display.Image object>"
      ]
     },
     "metadata": {},
     "output_type": "display_data"
    }
   ],
   "execution_count": 114
  },
  {
   "metadata": {
    "ExecuteTime": {
     "end_time": "2025-08-04T18:50:42.666401Z",
     "start_time": "2025-08-04T18:50:37.290078Z"
    }
   },
   "cell_type": "code",
   "source": [
    "from langchain.schema import HumanMessage\n",
    "\n",
    "sal = graph.invoke({\"messages\": [HumanMessage(content=\"Hola, quiero pedir un permiso\")]})\n",
    "\n",
    "for m in sal[\"messages\"]:\n",
    "    m.pretty_print()\n"
   ],
   "id": "6d516f50479c6b40",
   "outputs": [
    {
     "name": "stdout",
     "output_type": "stream",
     "text": [
      "Este es el mensaje que recibe Amparo: \n",
      "\n",
      "[HumanMessage(content='Hola, quiero pedir un permiso', additional_kwargs={}, response_metadata={})]\n",
      "RESPUESTA RAW: content='{\"next\": \"FINISH\", \"response\": \"Hola, soy Amparo, asistente virtual del equipo de desarrollo humano. ¿En qué te puedo ayudar?\"}' additional_kwargs={'refusal': None} response_metadata={'token_usage': {'completion_tokens': 34, 'prompt_tokens': 166, 'total_tokens': 200, 'completion_tokens_details': {'accepted_prediction_tokens': 0, 'audio_tokens': 0, 'reasoning_tokens': 0, 'rejected_prediction_tokens': 0}, 'prompt_tokens_details': {'audio_tokens': 0, 'cached_tokens': 0}}, 'model_name': 'gpt-4o-2024-08-06', 'system_fingerprint': 'fp_a288987b44', 'id': 'chatcmpl-C0uYbce9j0Ik3a9KlXwZi4rg7i0HN', 'service_tier': 'default', 'finish_reason': 'stop', 'logprobs': None} id='run--8dac1913-d773-4707-afaf-eb473436a624-0' usage_metadata={'input_tokens': 166, 'output_tokens': 34, 'total_tokens': 200, 'input_token_details': {'audio': 0, 'cache_read': 0}, 'output_token_details': {'audio': 0, 'reasoning': 0}}\n",
      "================================\u001B[1m Human Message \u001B[0m=================================\n",
      "\n",
      "Hola, quiero pedir un permiso\n",
      "==================================\u001B[1m Ai Message \u001B[0m==================================\n",
      "\n",
      "Hola, soy Amparo, asistente virtual del equipo de desarrollo humano. ¿En qué te puedo ayudar?\n"
     ]
    }
   ],
   "execution_count": 118
  },
  {
   "metadata": {},
   "cell_type": "code",
   "outputs": [],
   "execution_count": null,
   "source": "",
   "id": "d293baace35877b6"
  }
 ],
 "metadata": {
  "kernelspec": {
   "display_name": "Python 3",
   "language": "python",
   "name": "python3"
  },
  "language_info": {
   "codemirror_mode": {
    "name": "ipython",
    "version": 2
   },
   "file_extension": ".py",
   "mimetype": "text/x-python",
   "name": "python",
   "nbconvert_exporter": "python",
   "pygments_lexer": "ipython2",
   "version": "2.7.6"
  }
 },
 "nbformat": 4,
 "nbformat_minor": 5
}
