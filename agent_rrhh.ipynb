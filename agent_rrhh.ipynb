{
 "cells": [
  {
   "metadata": {
    "ExecuteTime": {
     "end_time": "2025-06-24T20:17:55.246380Z",
     "start_time": "2025-06-24T20:17:12.894908Z"
    }
   },
   "cell_type": "code",
   "source": [
    "%%capture --no-stderr\n",
    "%pip install --quiet -U langchain_openai langchain_core langgraph langchain_community langchain_anthropic langchain_experimental faiss-cpu tiktoken pypdf langchain openai langchain_anthropic langchain_experimental"
   ],
   "id": "f98279991751f239",
   "outputs": [
    {
     "name": "stderr",
     "output_type": "stream",
     "text": [
      "\n",
      "[notice] A new release of pip is available: 23.2.1 -> 25.1.1\n",
      "[notice] To update, run: python.exe -m pip install --upgrade pip\n"
     ]
    }
   ],
   "execution_count": 1
  },
  {
   "cell_type": "code",
   "id": "initial_id",
   "metadata": {
    "collapsed": true,
    "ExecuteTime": {
     "end_time": "2025-06-24T20:42:08.846675Z",
     "start_time": "2025-06-24T20:42:08.843383Z"
    }
   },
   "source": [
    "from langchain_community.document_loaders import PyPDFLoader\n",
    "from langchain_text_splitters import RecursiveCharacterTextSplitter\n",
    "from langchain_openai import ChatOpenAI, OpenAIEmbeddings\n",
    "from langchain.vectorstores import FAISS\n",
    "from langgraph.graph import START, END, StateGraph\n",
    "from langchain.chains import ConversationalRetrievalChain\n",
    "from langchain_core.tools import tool\n",
    "from typing_extensions import TypedDict\n",
    "from dotenv import load_dotenv, find_dotenv\n",
    "import tiktoken\n",
    "from IPython.display import Image, display\n",
    "import random\n"
   ],
   "outputs": [],
   "execution_count": 42
  },
  {
   "metadata": {
    "ExecuteTime": {
     "end_time": "2025-06-24T20:42:09.735622Z",
     "start_time": "2025-06-24T20:42:09.730610Z"
    }
   },
   "cell_type": "code",
   "source": [
    "# Carga de variables de entorno\n",
    "dotenv_path = find_dotenv()\n",
    "load_dotenv(dotenv_path)"
   ],
   "id": "c1a6e332f1ff415d",
   "outputs": [
    {
     "data": {
      "text/plain": [
       "True"
      ]
     },
     "execution_count": 43,
     "metadata": {},
     "output_type": "execute_result"
    }
   ],
   "execution_count": 43
  },
  {
   "metadata": {
    "ExecuteTime": {
     "end_time": "2025-06-24T20:42:11.177785Z",
     "start_time": "2025-06-24T20:42:09.947543Z"
    }
   },
   "cell_type": "code",
   "source": [
    "# Cargar el PDF\n",
    "loader = PyPDFLoader(\"embeddings/manual_rrhh.pdf\")\n",
    "docs = loader.load()\n",
    "\n",
    "# Fragmentar el texto\n",
    "splitter = RecursiveCharacterTextSplitter(chunk_size=500, chunk_overlap=50)\n",
    "chunks = splitter.split_documents(docs)\n",
    "\n",
    "# Crear embeddings e índice\n",
    "embeddings = OpenAIEmbeddings()\n",
    "vectorstore = FAISS.from_documents(chunks, embeddings)\n",
    "vectorstore.save_local(\"embeddings/faiss_index\")"
   ],
   "id": "e9f8c13e6df86ba9",
   "outputs": [],
   "execution_count": 44
  },
  {
   "metadata": {
    "ExecuteTime": {
     "end_time": "2025-06-24T20:42:11.185858Z",
     "start_time": "2025-06-24T20:42:11.180104Z"
    }
   },
   "cell_type": "code",
   "source": [
    "class PDFQuestionState(TypedDict):\n",
    "    question: str\n",
    "    docs: list\n",
    "\n",
    "@tool\n",
    "def retrieve_from_pdf(question: str) -> dict:\n",
    "    \"\"\"\n",
    "    Recupera documentos relevantes desde el índice FAISS en base a la pregunta del usuario.\n",
    "    \"\"\"\n",
    "    vectorstore = FAISS.load_local(\n",
    "        \"embeddings/faiss_index\",\n",
    "        OpenAIEmbeddings(),\n",
    "        allow_dangerous_deserialization=True\n",
    "    )\n",
    "    retriever = vectorstore.as_retriever()\n",
    "    docs = retriever.invoke(question)\n",
    "    return {\"question\": question, \"docs\": docs}\n",
    "\n"
   ],
   "id": "d39625e5c597058a",
   "outputs": [],
   "execution_count": 45
  },
  {
   "metadata": {
    "ExecuteTime": {
     "end_time": "2025-06-24T20:43:51.481602Z",
     "start_time": "2025-06-24T20:43:51.475632Z"
    }
   },
   "cell_type": "code",
   "source": [
    "@tool\n",
    "def answer_question(question: str, docs: list) -> dict:\n",
    "    \"\"\"\n",
    "    Usa un LLM para responder la pregunta del usuario basada en documentos recuperados.\n",
    "    \"\"\"\n",
    "    llm = ChatOpenAI(temperature=0)\n",
    "    chain = ConversationalRetrievalChain.from_llm(\n",
    "        llm=llm,\n",
    "        retriever=FAISS.load_local(\n",
    "            \"embeddings/faiss_index\",\n",
    "            OpenAIEmbeddings(),\n",
    "            allow_dangerous_deserialization=True\n",
    "        ).as_retriever()\n",
    "    )\n",
    "    response = chain.invoke({\"question\": question, \"chat_history\": []})\n",
    "    return {\"question\": question, \"docs\": docs, \"answer\": response[\"answer\"]}\n"
   ],
   "id": "289fc783fb19c90e",
   "outputs": [],
   "execution_count": 50
  },
  {
   "metadata": {
    "ExecuteTime": {
     "end_time": "2025-06-24T20:43:52.027240Z",
     "start_time": "2025-06-24T20:43:52.021742Z"
    }
   },
   "cell_type": "code",
   "source": [
    "OTP_CODE = \"123456\"\n",
    "@tool\n",
    "def otp_verification(user_id: str, otp_input: str = \"\") -> dict:\n",
    "    \"\"\"\n",
    "    Verifica un código OTP para el usuario.\n",
    "    \"\"\"\n",
    "    if otp_input == \"\":\n",
    "        print(f\"🔐 Enviando código OTP a usuario {user_id}...\")\n",
    "        print(f\"(Para pruebas, el código es: {OTP_CODE})\")\n",
    "        return {\n",
    "            \"user_id\": user_id,\n",
    "            \"awaiting_otp\": True,\n",
    "            \"otp_valid\": False,\n",
    "            \"otp_input\": \"\"\n",
    "        }\n",
    "\n",
    "    if otp_input == OTP_CODE:\n",
    "        print(\"✅ Código OTP validado.\")\n",
    "        return {\n",
    "            \"user_id\": user_id,\n",
    "            \"otp_valid\": True,\n",
    "            \"awaiting_otp\": False,\n",
    "            \"otp_input\": otp_input\n",
    "        }\n",
    "\n",
    "    print(\"❌ Código OTP incorrecto.\")\n",
    "    return {\n",
    "        \"user_id\": user_id,\n",
    "        \"otp_valid\": False,\n",
    "        \"awaiting_otp\": False,\n",
    "        \"otp_input\": otp_input\n",
    "    }\n",
    "\n",
    "\n"
   ],
   "id": "b056f1a0766928e8",
   "outputs": [],
   "execution_count": 51
  },
  {
   "metadata": {
    "ExecuteTime": {
     "end_time": "2025-06-24T20:46:04.943291Z",
     "start_time": "2025-06-24T20:46:04.427693Z"
    }
   },
   "cell_type": "code",
   "source": [
    "class GraphState(TypedDict, total=False):\n",
    "    user_id: str\n",
    "    otp_input: str\n",
    "    otp_valid: bool\n",
    "    awaiting_otp: bool\n",
    "    question: str\n",
    "    docs: list\n",
    "    answer: str\n",
    "\n",
    "\n",
    "\n",
    "graph = StateGraph(GraphState)\n",
    "\n",
    "graph.add_node(\"otp\", otp_verification)\n",
    "graph.add_node(\"generate_answer\", answer_question)  # ejemplo de nodo protegido\n",
    "\n",
    "# Entrada → OTP → si válido → nodo protegido\n",
    "graph.set_entry_point(\"otp\")\n",
    "\n",
    "graph.add_conditional_edges(\n",
    "    \"otp\",\n",
    "    lambda state: (\n",
    "        \"awaiting_otp\" if state.get(\"awaiting_otp\") else\n",
    "        \"valid\" if state.get(\"otp_valid\") else\n",
    "        \"invalid\"\n",
    "    ),\n",
    "    {\n",
    "        \"awaiting_otp\": \"otp\",\n",
    "        \"valid\": \"generate_answer\",\n",
    "        \"invalid\": \"otp\"\n",
    "    }\n",
    ")\n",
    "\n",
    "\n",
    "graph.set_finish_point(\"generate_answer\")\n",
    "faq_graph = graph.compile()\n",
    "\n",
    "display(Image(faq_graph.get_graph().draw_mermaid_png()))\n"
   ],
   "id": "d58a6184a3e426a2",
   "outputs": [
    {
     "data": {
      "image/png": "[encoded data removed]",
      "text/plain": [
       "<IPython.core.display.Image object>"
      ]
     },
     "metadata": {},
     "output_type": "display_data"
    }
   ],
   "execution_count": 55
  },
  {
   "metadata": {},
   "cell_type": "code",
   "outputs": [],
   "execution_count": null,
   "source": "\n",
   "id": "e48c4f0e8e2802af"
  },
  {
   "metadata": {
    "ExecuteTime": {
     "end_time": "2025-06-24T20:32:17.014330Z",
     "start_time": "2025-06-24T20:32:12.701253Z"
    }
   },
   "cell_type": "code",
   "source": [
    "result = faq_graph.invoke({\"question\": \"¿Cuántos días de vacaciones me corresponden?\"})\n",
    "print(result[\"answer\"])"
   ],
   "id": "6c6a6d0351d2cc43",
   "outputs": [
    {
     "name": "stdout",
     "output_type": "stream",
     "text": [
      "Según el Manual de RRHH de ICPACIFICO, a todo trabajador le corresponden 15 días hábiles de vacaciones por cada año trabajado.\n"
     ]
    }
   ],
   "execution_count": 26
  },
  {
   "metadata": {
    "ExecuteTime": {
     "end_time": "2025-06-24T20:46:19.736738Z",
     "start_time": "2025-06-24T20:46:19.630718Z"
    }
   },
   "cell_type": "code",
   "source": [
    "# 1. Enviar OTP\n",
    "step1 = faq_graph.invoke({\"user_id\": \"usuario123\", \"otp_input\": \"\"})\n",
    "\n",
    "# 2. Enviar el código (debe incluir el mismo `user_id`)\n",
    "step2 = faq_graph.invoke({\n",
    "    \"user_id\": \"usuario123\",\n",
    "    \"otp_input\": \"123456\",\n",
    "    **{k: v for k, v in step1.items() if k not in [\"otp_input\"]}  # preserva estado\n",
    "})\n",
    "\n",
    "print(\"✅ Resultado:\")\n",
    "print(step2.get(\"answer\", step2))\n"
   ],
   "id": "79652580fb216fa3",
   "outputs": [
    {
     "name": "stdout",
     "output_type": "stream",
     "text": [
      "🔐 Enviando código OTP a usuario usuario123...\n",
      "(Para pruebas, el código es: 123456)\n",
      "🔐 Enviando código OTP a usuario usuario123...\n",
      "(Para pruebas, el código es: 123456)\n",
      "🔐 Enviando código OTP a usuario usuario123...\n",
      "(Para pruebas, el código es: 123456)\n",
      "🔐 Enviando código OTP a usuario usuario123...\n",
      "(Para pruebas, el código es: 123456)\n",
      "🔐 Enviando código OTP a usuario usuario123...\n",
      "(Para pruebas, el código es: 123456)\n",
      "🔐 Enviando código OTP a usuario usuario123...\n",
      "(Para pruebas, el código es: 123456)\n",
      "🔐 Enviando código OTP a usuario usuario123...\n",
      "(Para pruebas, el código es: 123456)\n",
      "🔐 Enviando código OTP a usuario usuario123...\n",
      "(Para pruebas, el código es: 123456)\n",
      "🔐 Enviando código OTP a usuario usuario123...\n",
      "(Para pruebas, el código es: 123456)\n",
      "🔐 Enviando código OTP a usuario usuario123...\n",
      "(Para pruebas, el código es: 123456)\n",
      "🔐 Enviando código OTP a usuario usuario123...\n",
      "(Para pruebas, el código es: 123456)\n",
      "🔐 Enviando código OTP a usuario usuario123...\n",
      "(Para pruebas, el código es: 123456)\n",
      "🔐 Enviando código OTP a usuario usuario123...\n",
      "(Para pruebas, el código es: 123456)\n",
      "🔐 Enviando código OTP a usuario usuario123...\n",
      "(Para pruebas, el código es: 123456)\n",
      "🔐 Enviando código OTP a usuario usuario123...\n",
      "(Para pruebas, el código es: 123456)\n",
      "🔐 Enviando código OTP a usuario usuario123...\n",
      "(Para pruebas, el código es: 123456)\n",
      "🔐 Enviando código OTP a usuario usuario123...\n",
      "(Para pruebas, el código es: 123456)\n",
      "🔐 Enviando código OTP a usuario usuario123...\n",
      "(Para pruebas, el código es: 123456)\n",
      "🔐 Enviando código OTP a usuario usuario123...\n",
      "(Para pruebas, el código es: 123456)\n",
      "🔐 Enviando código OTP a usuario usuario123...\n",
      "(Para pruebas, el código es: 123456)\n",
      "🔐 Enviando código OTP a usuario usuario123...\n",
      "(Para pruebas, el código es: 123456)\n",
      "🔐 Enviando código OTP a usuario usuario123...\n",
      "(Para pruebas, el código es: 123456)\n",
      "🔐 Enviando código OTP a usuario usuario123...\n",
      "(Para pruebas, el código es: 123456)\n",
      "🔐 Enviando código OTP a usuario usuario123...\n",
      "(Para pruebas, el código es: 123456)\n",
      "🔐 Enviando código OTP a usuario usuario123...\n",
      "(Para pruebas, el código es: 123456)\n"
     ]
    },
    {
     "ename": "GraphRecursionError",
     "evalue": "Recursion limit of 25 reached without hitting a stop condition. You can increase the limit by setting the `recursion_limit` config key.\nFor troubleshooting, visit: https://python.langchain.com/docs/troubleshooting/errors/GRAPH_RECURSION_LIMIT",
     "output_type": "error",
     "traceback": [
      "\u001B[31m---------------------------------------------------------------------------\u001B[39m",
      "\u001B[31mGraphRecursionError\u001B[39m                       Traceback (most recent call last)",
      "\u001B[36mCell\u001B[39m\u001B[36m \u001B[39m\u001B[32mIn[56]\u001B[39m\u001B[32m, line 2\u001B[39m\n\u001B[32m      1\u001B[39m \u001B[38;5;66;03m# 1. Enviar OTP\u001B[39;00m\n\u001B[32m----> \u001B[39m\u001B[32m2\u001B[39m step1 = \u001B[43mfaq_graph\u001B[49m\u001B[43m.\u001B[49m\u001B[43minvoke\u001B[49m\u001B[43m(\u001B[49m\u001B[43m{\u001B[49m\u001B[33;43m\"\u001B[39;49m\u001B[33;43muser_id\u001B[39;49m\u001B[33;43m\"\u001B[39;49m\u001B[43m:\u001B[49m\u001B[43m \u001B[49m\u001B[33;43m\"\u001B[39;49m\u001B[33;43musuario123\u001B[39;49m\u001B[33;43m\"\u001B[39;49m\u001B[43m,\u001B[49m\u001B[43m \u001B[49m\u001B[33;43m\"\u001B[39;49m\u001B[33;43motp_input\u001B[39;49m\u001B[33;43m\"\u001B[39;49m\u001B[43m:\u001B[49m\u001B[43m \u001B[49m\u001B[33;43m\"\u001B[39;49m\u001B[33;43m\"\u001B[39;49m\u001B[43m}\u001B[49m\u001B[43m)\u001B[49m\n\u001B[32m      4\u001B[39m \u001B[38;5;66;03m# 2. Enviar el código (debe incluir el mismo `user_id`)\u001B[39;00m\n\u001B[32m      5\u001B[39m step2 = faq_graph.invoke({\n\u001B[32m      6\u001B[39m     \u001B[33m\"\u001B[39m\u001B[33muser_id\u001B[39m\u001B[33m\"\u001B[39m: \u001B[33m\"\u001B[39m\u001B[33musuario123\u001B[39m\u001B[33m\"\u001B[39m,\n\u001B[32m      7\u001B[39m     \u001B[33m\"\u001B[39m\u001B[33motp_input\u001B[39m\u001B[33m\"\u001B[39m: \u001B[33m\"\u001B[39m\u001B[33m123456\u001B[39m\u001B[33m\"\u001B[39m,\n\u001B[32m      8\u001B[39m     **{k: v \u001B[38;5;28;01mfor\u001B[39;00m k, v \u001B[38;5;129;01min\u001B[39;00m step1.items() \u001B[38;5;28;01mif\u001B[39;00m k \u001B[38;5;129;01mnot\u001B[39;00m \u001B[38;5;129;01min\u001B[39;00m [\u001B[33m\"\u001B[39m\u001B[33motp_input\u001B[39m\u001B[33m\"\u001B[39m]}  \u001B[38;5;66;03m# preserva estado\u001B[39;00m\n\u001B[32m      9\u001B[39m })\n",
      "\u001B[36mFile \u001B[39m\u001B[32m~\\PycharmProjects\\AgentRH\\.venv\\Lib\\site-packages\\langgraph\\pregel\\__init__.py:2719\u001B[39m, in \u001B[36mPregel.invoke\u001B[39m\u001B[34m(self, input, config, stream_mode, output_keys, interrupt_before, interrupt_after, checkpoint_during, debug, **kwargs)\u001B[39m\n\u001B[32m   2716\u001B[39m chunks: \u001B[38;5;28mlist\u001B[39m[Union[\u001B[38;5;28mdict\u001B[39m[\u001B[38;5;28mstr\u001B[39m, Any], Any]] = []\n\u001B[32m   2717\u001B[39m interrupts: \u001B[38;5;28mlist\u001B[39m[Interrupt] = []\n\u001B[32m-> \u001B[39m\u001B[32m2719\u001B[39m \u001B[43m\u001B[49m\u001B[38;5;28;43;01mfor\u001B[39;49;00m\u001B[43m \u001B[49m\u001B[43mchunk\u001B[49m\u001B[43m \u001B[49m\u001B[38;5;129;43;01min\u001B[39;49;00m\u001B[43m \u001B[49m\u001B[38;5;28;43mself\u001B[39;49m\u001B[43m.\u001B[49m\u001B[43mstream\u001B[49m\u001B[43m(\u001B[49m\n\u001B[32m   2720\u001B[39m \u001B[43m    \u001B[49m\u001B[38;5;28;43minput\u001B[39;49m\u001B[43m,\u001B[49m\n\u001B[32m   2721\u001B[39m \u001B[43m    \u001B[49m\u001B[43mconfig\u001B[49m\u001B[43m,\u001B[49m\n\u001B[32m   2722\u001B[39m \u001B[43m    \u001B[49m\u001B[43mstream_mode\u001B[49m\u001B[43m=\u001B[49m\u001B[43mstream_mode\u001B[49m\u001B[43m,\u001B[49m\n\u001B[32m   2723\u001B[39m \u001B[43m    \u001B[49m\u001B[43moutput_keys\u001B[49m\u001B[43m=\u001B[49m\u001B[43moutput_keys\u001B[49m\u001B[43m,\u001B[49m\n\u001B[32m   2724\u001B[39m \u001B[43m    \u001B[49m\u001B[43minterrupt_before\u001B[49m\u001B[43m=\u001B[49m\u001B[43minterrupt_before\u001B[49m\u001B[43m,\u001B[49m\n\u001B[32m   2725\u001B[39m \u001B[43m    \u001B[49m\u001B[43minterrupt_after\u001B[49m\u001B[43m=\u001B[49m\u001B[43minterrupt_after\u001B[49m\u001B[43m,\u001B[49m\n\u001B[32m   2726\u001B[39m \u001B[43m    \u001B[49m\u001B[43mcheckpoint_during\u001B[49m\u001B[43m=\u001B[49m\u001B[43mcheckpoint_during\u001B[49m\u001B[43m,\u001B[49m\n\u001B[32m   2727\u001B[39m \u001B[43m    \u001B[49m\u001B[43mdebug\u001B[49m\u001B[43m=\u001B[49m\u001B[43mdebug\u001B[49m\u001B[43m,\u001B[49m\n\u001B[32m   2728\u001B[39m \u001B[43m    \u001B[49m\u001B[43m*\u001B[49m\u001B[43m*\u001B[49m\u001B[43mkwargs\u001B[49m\u001B[43m,\u001B[49m\n\u001B[32m   2729\u001B[39m \u001B[43m\u001B[49m\u001B[43m)\u001B[49m\u001B[43m:\u001B[49m\n\u001B[32m   2730\u001B[39m \u001B[43m    \u001B[49m\u001B[38;5;28;43;01mif\u001B[39;49;00m\u001B[43m \u001B[49m\u001B[43mstream_mode\u001B[49m\u001B[43m \u001B[49m\u001B[43m==\u001B[49m\u001B[43m \u001B[49m\u001B[33;43m\"\u001B[39;49m\u001B[33;43mvalues\u001B[39;49m\u001B[33;43m\"\u001B[39;49m\u001B[43m:\u001B[49m\n\u001B[32m   2731\u001B[39m \u001B[43m        \u001B[49m\u001B[38;5;28;43;01mif\u001B[39;49;00m\u001B[43m \u001B[49m\u001B[43m(\u001B[49m\n\u001B[32m   2732\u001B[39m \u001B[43m            \u001B[49m\u001B[38;5;28;43misinstance\u001B[39;49m\u001B[43m(\u001B[49m\u001B[43mchunk\u001B[49m\u001B[43m,\u001B[49m\u001B[43m \u001B[49m\u001B[38;5;28;43mdict\u001B[39;49m\u001B[43m)\u001B[49m\n\u001B[32m   2733\u001B[39m \u001B[43m            \u001B[49m\u001B[38;5;129;43;01mand\u001B[39;49;00m\u001B[43m \u001B[49m\u001B[43m(\u001B[49m\u001B[43mints\u001B[49m\u001B[43m \u001B[49m\u001B[43m:=\u001B[49m\u001B[43m \u001B[49m\u001B[43mchunk\u001B[49m\u001B[43m.\u001B[49m\u001B[43mget\u001B[49m\u001B[43m(\u001B[49m\u001B[43mINTERRUPT\u001B[49m\u001B[43m)\u001B[49m\u001B[43m)\u001B[49m\u001B[43m \u001B[49m\u001B[38;5;129;43;01mis\u001B[39;49;00m\u001B[43m \u001B[49m\u001B[38;5;129;43;01mnot\u001B[39;49;00m\u001B[43m \u001B[49m\u001B[38;5;28;43;01mNone\u001B[39;49;00m\n\u001B[32m   2734\u001B[39m \u001B[43m        \u001B[49m\u001B[43m)\u001B[49m\u001B[43m:\u001B[49m\n",
      "\u001B[36mFile \u001B[39m\u001B[32m~\\PycharmProjects\\AgentRH\\.venv\\Lib\\site-packages\\langgraph\\pregel\\__init__.py:2456\u001B[39m, in \u001B[36mPregel.stream\u001B[39m\u001B[34m(self, input, config, stream_mode, output_keys, interrupt_before, interrupt_after, checkpoint_during, debug, subgraphs)\u001B[39m\n\u001B[32m   2447\u001B[39m \u001B[38;5;28;01mif\u001B[39;00m loop.status == \u001B[33m\"\u001B[39m\u001B[33mout_of_steps\u001B[39m\u001B[33m\"\u001B[39m:\n\u001B[32m   2448\u001B[39m     msg = create_error_message(\n\u001B[32m   2449\u001B[39m         message=(\n\u001B[32m   2450\u001B[39m             \u001B[33mf\u001B[39m\u001B[33m\"\u001B[39m\u001B[33mRecursion limit of \u001B[39m\u001B[38;5;132;01m{\u001B[39;00mconfig[\u001B[33m'\u001B[39m\u001B[33mrecursion_limit\u001B[39m\u001B[33m'\u001B[39m]\u001B[38;5;132;01m}\u001B[39;00m\u001B[33m reached \u001B[39m\u001B[33m\"\u001B[39m\n\u001B[32m   (...)\u001B[39m\u001B[32m   2454\u001B[39m         error_code=ErrorCode.GRAPH_RECURSION_LIMIT,\n\u001B[32m   2455\u001B[39m     )\n\u001B[32m-> \u001B[39m\u001B[32m2456\u001B[39m     \u001B[38;5;28;01mraise\u001B[39;00m GraphRecursionError(msg)\n\u001B[32m   2457\u001B[39m \u001B[38;5;66;03m# set final channel values as run output\u001B[39;00m\n\u001B[32m   2458\u001B[39m run_manager.on_chain_end(loop.output)\n",
      "\u001B[31mGraphRecursionError\u001B[39m: Recursion limit of 25 reached without hitting a stop condition. You can increase the limit by setting the `recursion_limit` config key.\nFor troubleshooting, visit: https://python.langchain.com/docs/troubleshooting/errors/GRAPH_RECURSION_LIMIT"
     ]
    }
   ],
   "execution_count": 56
  },
  {
   "metadata": {},
   "cell_type": "code",
   "outputs": [],
   "execution_count": null,
   "source": "",
   "id": "bd46ee77897783f"
  }
 ],
 "metadata": {
  "kernelspec": {
   "display_name": "Python 3",
   "language": "python",
   "name": "python3"
  },
  "language_info": {
   "codemirror_mode": {
    "name": "ipython",
    "version": 2
   },
   "file_extension": ".py",
   "mimetype": "text/x-python",
   "name": "python",
   "nbconvert_exporter": "python",
   "pygments_lexer": "ipython2",
   "version": "2.7.6"
  }
 },
 "nbformat": 4,
 "nbformat_minor": 5
}
