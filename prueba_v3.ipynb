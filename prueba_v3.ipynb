{
 "cells": [
  {
   "cell_type": "code",
   "id": "initial_id",
   "metadata": {
    "collapsed": true,
    "ExecuteTime": {
     "end_time": "2025-06-25T13:39:19.645301Z",
     "start_time": "2025-06-25T13:39:15.496942Z"
    }
   },
   "source": [
    "%%capture --no-stderr\n",
    "%pip install --quiet -U langchain_openai langchain_core langgraph langchain_community langchain_anthropic langchain_experimental faiss-cpu tiktoken pypdf langchain openai langchain_anthropic langchain_experimental"
   ],
   "outputs": [
    {
     "name": "stderr",
     "output_type": "stream",
     "text": [
      "\n",
      "[notice] A new release of pip is available: 23.2.1 -> 25.1.1\n",
      "[notice] To update, run: python.exe -m pip install --upgrade pip\n"
     ]
    }
   ],
   "execution_count": 1
  },
  {
   "metadata": {
    "ExecuteTime": {
     "end_time": "2025-06-25T13:39:25.785495Z",
     "start_time": "2025-06-25T13:39:23.343239Z"
    }
   },
   "cell_type": "code",
   "source": [
    "# Importación de librerias\n",
    "# LangGraph\n",
    "from langgraph.graph import START, END, StateGraph\n",
    "from langgraph.types import Command\n",
    "from langgraph.prebuilt import create_react_agent\n",
    "\n",
    "# LangChain\n",
    "from langchain_core.messages import HumanMessage\n",
    "from langchain_openai import ChatOpenAI, OpenAIEmbeddings\n",
    "from langchain_community.tools.tavily_search import TavilySearchResults\n",
    "from langchain.tools.retriever import create_retriever_tool\n",
    "from langchain.vectorstores import FAISS\n",
    "from langchain_text_splitters import RecursiveCharacterTextSplitter\n",
    "from langchain_community.document_loaders import PyPDFLoader\n",
    "from langchain_core.prompts import ChatPromptTemplate\n",
    "from langchain_core.messages import AIMessage\n",
    "\n",
    "# Utilidades\n",
    "from typing import TypedDict, Optional, Dict, List, Literal, Annotated\n",
    "from dotenv import load_dotenv, find_dotenv\n",
    "import tiktoken\n",
    "from IPython.display import Image, display"
   ],
   "id": "f55d4dc44dc9623a",
   "outputs": [],
   "execution_count": 2
  },
  {
   "metadata": {
    "ExecuteTime": {
     "end_time": "2025-06-25T13:39:29.375496Z",
     "start_time": "2025-06-25T13:39:29.367804Z"
    }
   },
   "cell_type": "code",
   "source": [
    "# Carga de variables de entorno\n",
    "dotenv_path = find_dotenv()\n",
    "load_dotenv(dotenv_path)"
   ],
   "id": "75fc3a81f4769403",
   "outputs": [
    {
     "data": {
      "text/plain": [
       "True"
      ]
     },
     "execution_count": 3,
     "metadata": {},
     "output_type": "execute_result"
    }
   ],
   "execution_count": 3
  },
  {
   "metadata": {
    "ExecuteTime": {
     "end_time": "2025-06-25T13:39:32.449358Z",
     "start_time": "2025-06-25T13:39:32.445785Z"
    }
   },
   "cell_type": "code",
   "source": [
    "def count_tokens_in_docs(docs, model_name=\"gpt-4o\"):\n",
    "    \"\"\"\n",
    "    Calcula la cantidad total de tokens para una lista de documentos\n",
    "    usando la librería tiktoken.\n",
    "\n",
    "    :param docs: Lista de documentos (por ejemplo, la salida de un loader PDF).\n",
    "    :param model_name: Nombre del modelo para el que queremos simular el conteo.\n",
    "    :return: Número total de tokens en el contenido de los documentos.\n",
    "    \"\"\"\n",
    "    # Obtenemos la codificación que usa el modelo seleccionado\n",
    "    encoding = tiktoken.encoding_for_model(model_name)\n",
    "\n",
    "    total_tokens = 0\n",
    "    for doc in docs:\n",
    "        # doc.page_content es el texto de cada página/documento\n",
    "        text = doc.page_content\n",
    "        total_tokens += len(encoding.encode(text))\n",
    "\n",
    "    return total_tokens"
   ],
   "id": "698b5f9ee7091a37",
   "outputs": [],
   "execution_count": 4
  },
  {
   "metadata": {
    "ExecuteTime": {
     "end_time": "2025-06-25T13:39:51.738460Z",
     "start_time": "2025-06-25T13:39:51.587510Z"
    }
   },
   "cell_type": "code",
   "source": [
    "# 2. CARGA DEL PDF\n",
    "# ----------------------------------------------------------------------------\n",
    "file_path = \"embeddings/manual_rrhh.pdf\"\n",
    "loader = PyPDFLoader(file_path)\n",
    "docs = loader.load()"
   ],
   "id": "8dc70f92890e01b3",
   "outputs": [],
   "execution_count": 6
  },
  {
   "metadata": {
    "ExecuteTime": {
     "end_time": "2025-06-25T13:39:53.114059Z",
     "start_time": "2025-06-25T13:39:53.110628Z"
    }
   },
   "cell_type": "code",
   "source": [
    "# Cantidad de documentos extraídos (páginas, secciones, etc. según PyPDFLoader)\n",
    "print(\"Número de docs cargados:\", len(docs))\n",
    "\n",
    "# Opcional: vista previa de los primeros 100 caracteres de la primera página\n",
    "print(\"Preview contenido:\", docs[0].page_content[0:100])\n",
    "print(\"Metadata:\", docs[0].metadata)"
   ],
   "id": "5b9c41c910da8a1c",
   "outputs": [
    {
     "name": "stdout",
     "output_type": "stream",
     "text": [
      "Número de docs cargados: 1\n",
      "Preview contenido: MANUAL DE RRHH - ICPACIFICO\n",
      "1. VACACIONES\n",
      "Todo trabajador tiene derecho a 15 días hábiles de vacacio\n",
      "Metadata: {'producer': 'PyFPDF 1.7.2 http://pyfpdf.googlecode.com/', 'creator': 'PyPDF', 'creationdate': 'D:20250624201848', 'source': 'embeddings/manual_rrhh.pdf', 'total_pages': 1, 'page': 0, 'page_label': '1'}\n"
     ]
    }
   ],
   "execution_count": 7
  },
  {
   "metadata": {
    "ExecuteTime": {
     "end_time": "2025-06-25T13:39:55.074772Z",
     "start_time": "2025-06-25T13:39:54.819575Z"
    }
   },
   "cell_type": "code",
   "source": [
    "# 3. CONTAR TOKENS ANTES DE HACER NADA\n",
    "# ----------------------------------------------------------------------------\n",
    "tokens_en_documento = count_tokens_in_docs(docs, model_name=\"gpt-4o\")\n",
    "print(\"Tokens en el documento completo:\", tokens_en_documento)"
   ],
   "id": "6853d179f756cffc",
   "outputs": [
    {
     "name": "stdout",
     "output_type": "stream",
     "text": [
      "Tokens en el documento completo: 172\n"
     ]
    }
   ],
   "execution_count": 8
  },
  {
   "metadata": {
    "ExecuteTime": {
     "end_time": "2025-06-25T13:39:56.604706Z",
     "start_time": "2025-06-25T13:39:56.601733Z"
    }
   },
   "cell_type": "code",
   "source": [
    "text_splitter = RecursiveCharacterTextSplitter(chunk_size=500, chunk_overlap=100)\n",
    "splits = text_splitter.split_documents(docs)"
   ],
   "id": "2ababb579f7ce3ca",
   "outputs": [],
   "execution_count": 9
  },
  {
   "metadata": {
    "ExecuteTime": {
     "end_time": "2025-06-25T13:40:00.093570Z",
     "start_time": "2025-06-25T13:39:58.020816Z"
    }
   },
   "cell_type": "code",
   "source": [
    "# Crea los embeddings\n",
    "embeddings = OpenAIEmbeddings()\n",
    "vectorstore = FAISS.from_documents(splits, embeddings)\n",
    "\n",
    "# Crea el retriever\n",
    "# retriever = vectorstore.as_retriever(search_kwargs={\"k\": 3})\n",
    "retriever = vectorstore.as_retriever(search_kwargs={\"k\": 10, \"score_threshold\": 0.3})"
   ],
   "id": "37409a6e0761a3b4",
   "outputs": [],
   "execution_count": 10
  },
  {
   "metadata": {
    "ExecuteTime": {
     "end_time": "2025-06-25T13:40:03.463068Z",
     "start_time": "2025-06-25T13:40:02.912704Z"
    }
   },
   "cell_type": "code",
   "source": [
    "# Modelo utilizado\n",
    "llm = ChatOpenAI(model=\"gpt-4o\")"
   ],
   "id": "dbf6cb9da723df2d",
   "outputs": [],
   "execution_count": 11
  },
  {
   "metadata": {
    "ExecuteTime": {
     "end_time": "2025-06-25T14:00:51.576557Z",
     "start_time": "2025-06-25T14:00:51.573349Z"
    }
   },
   "cell_type": "code",
   "source": [
    "# Creación del estado\n",
    "class GlobalState(TypedDict): # Estado Globa\n",
    "    graph: str\n",
    "    messages: list[dict] # Es una lista de diccionarios\n",
    "    next: str"
   ],
   "id": "7cb5af8abf7d5ff",
   "outputs": [],
   "execution_count": 47
  },
  {
   "metadata": {
    "ExecuteTime": {
     "end_time": "2025-06-25T14:00:52.470053Z",
     "start_time": "2025-06-25T14:00:52.467043Z"
    }
   },
   "cell_type": "code",
   "source": [
    "# Miembros del equipo\n",
    "# members = [\"consultas\", \"amparo\"]\n",
    "members = [\"consultas\"]\n",
    "options = members + [\"FINISH\"]"
   ],
   "id": "fea47643adf71361",
   "outputs": [],
   "execution_count": 48
  },
  {
   "metadata": {
    "ExecuteTime": {
     "end_time": "2025-06-25T14:00:54.382731Z",
     "start_time": "2025-06-25T14:00:54.378829Z"
    }
   },
   "cell_type": "code",
   "source": [
    "# Router con opciones para el llm\n",
    "class Router(TypedDict):\n",
    "    \"\"\"Worker to route to next. If no workers needed, route to FINISH.\"\"\"\n",
    "\n",
    "#    next: Literal[\"consultas\", \"amparo\", \"FINISH\"]\n",
    "    next: Literal[\"consultas\", \"FINISH\"]\n"
   ],
   "id": "3cab456732da12e2",
   "outputs": [],
   "execution_count": 49
  },
  {
   "metadata": {
    "ExecuteTime": {
     "end_time": "2025-06-25T14:01:42.796805Z",
     "start_time": "2025-06-25T14:01:42.791584Z"
    }
   },
   "cell_type": "code",
   "source": [
    "# Definir un nodo info o agent principal\n",
    "system_prompt_amparo = \"Eres Amparo una asistente virtual de recursos humanos creado para responder las dudas y consultas de nuestros trabajadores respecto a sus consultas basicas a recursos humanos. Tu trabajo consiste en responder a las preguntas de los trabajadores solo con la información del documento cargado que tienes y nada más\"\n",
    "info_agent = create_react_agent(\n",
    "    llm,\n",
    "    tools=[],\n",
    "    prompt=ChatPromptTemplate.from_messages([\n",
    "        (\"system\", system_prompt_amparo),\n",
    "        (\"human\", \"{messages}\")\n",
    "    ])\n",
    ")\n",
    "\n",
    "def amparo_node(state: GlobalState) -> Command[Literal[\"supervisor\"]]:\n",
    "    result = info_agent.invoke(state)\n",
    "    print(\"RESPUESTA DE Amparo: \\n\")\n",
    "    print(result[\"messages\"])\n",
    "    return Command(\n",
    "        goto=\"supervisor\",\n",
    "        update={\"messages\": result[\"messages\"]}\n",
    "    )"
   ],
   "id": "63669fd9a3ce4e54",
   "outputs": [],
   "execution_count": 50
  },
  {
   "metadata": {
    "ExecuteTime": {
     "end_time": "2025-06-25T14:01:43.138059Z",
     "start_time": "2025-06-25T14:01:43.135048Z"
    }
   },
   "cell_type": "code",
   "source": [
    "# Crea una herramienta a partir del retriever\n",
    "retriever_tool = create_retriever_tool(\n",
    "    retriever,\n",
    "    name=\"info_retriever\",\n",
    "    description=\"Busca información en el pdf para responder a las preguntas de los trabajadores.\"\n",
    ")"
   ],
   "id": "66f3f4153b4b2a63",
   "outputs": [],
   "execution_count": 51
  },
  {
   "metadata": {
    "ExecuteTime": {
     "end_time": "2025-06-25T14:01:44.030735Z",
     "start_time": "2025-06-25T14:01:44.023572Z"
    }
   },
   "cell_type": "code",
   "source": [
    "# Crea el agente con la herramienta\n",
    "retriever_agent = create_react_agent(\n",
    "    llm,\n",
    "    tools=[retriever_tool],\n",
    "    prompt=\"Eres un agente experto en responder preguntas sobre recursos humanos,\"\n",
    ")"
   ],
   "id": "1e522b08080fcbf2",
   "outputs": [],
   "execution_count": 52
  },
  {
   "metadata": {
    "ExecuteTime": {
     "end_time": "2025-06-25T14:01:44.413817Z",
     "start_time": "2025-06-25T14:01:44.410889Z"
    }
   },
   "cell_type": "code",
   "source": [
    "def retriever_node(state: GlobalState) -> Command[Literal[\"__end__\"]]:\n",
    "    result = retriever_agent.invoke(state)\n",
    "    return Command(\n",
    "        goto=\"supervisor\",\n",
    "        update={\n",
    "            \"messages\": result[\"messages\"]\n",
    "        }\n",
    "    )"
   ],
   "id": "68e1eb61d8f116f",
   "outputs": [],
   "execution_count": 53
  },
  {
   "metadata": {
    "ExecuteTime": {
     "end_time": "2025-06-25T14:01:45.541553Z",
     "start_time": "2025-06-25T14:01:45.538807Z"
    }
   },
   "cell_type": "code",
   "source": [
    "system_prompt = (\n",
    "    \"Tu nombre es Amparo, una agente virtual que apoya las gestiones del área de Recursos Humanos \"\n",
    "    \"de la empresa Inmobiliaria Costanera Pacífico. Tu función principal es analizar las solicitudes de los trabajadores \"\n",
    "    f\"y derivarlas a los siguientes agentes especializados: {members}.\\n\\n\"\n",
    "\n",
    "    \"El agente especializado 'consultas' se encarga de responder preguntas sobre normativa interna, beneficios, reglamentos, \"\n",
    "    \"y cualquier otro aspecto relacionado con Recursos Humanos, utilizando como fuente un documento PDF que contiene la información oficial.\\n\\n\"\n",
    "\n",
    "    \"Tu tarea es analizar el mensaje del trabajador y decidir qué agente debe actuar en función de la solicitud.\\n\"\n",
    "    \"Si la solicitud es general o informal, selecciona el agente más apropiado para responder o investigar.\\n\"\n",
    "    \"Si ya se resolvió completamente, responde únicamente con 'FINISH'.\\n\\n\"\n",
    "\n",
    "    \"Devuelve **únicamente** el nombre del agente a activar (por ejemplo: consultas), o 'FINISH' si todo ha concluido.\"\n",
    ")\n"
   ],
   "id": "5c677bb735e2ee5f",
   "outputs": [],
   "execution_count": 54
  },
  {
   "metadata": {
    "ExecuteTime": {
     "end_time": "2025-06-25T14:02:03.301031Z",
     "start_time": "2025-06-25T14:02:03.296989Z"
    }
   },
   "cell_type": "code",
   "source": [
    "def supervisor_node(state: GlobalState) -> Command[Literal[\"consultas\",\"__end__\"]]:\n",
    "    print(\"Este es el mensaje que recibe el supervisor: \\n\")\n",
    "    print(state[\"messages\"])\n",
    "    ultimo_ai = next((msg for msg in reversed(state[\"messages\"]) if isinstance(msg, AIMessage)), None)\n",
    "    print(\"ULTIMO AI: \", ultimo_ai)\n",
    "    # if ultimo_ai:\n",
    "    if isinstance(state[\"messages\"][-1], AIMessage):\n",
    "        # ultimo_ai= ultimo_ai.content\n",
    "        # ultimo_ai= list(ultimo_ai)\n",
    "        # messages = [{\"role\":\"system\", \"content\":system_prompt},] + ultimo_ai\n",
    "        goto = \"FINISH\"\n",
    "    else:\n",
    "        messages = [{\"role\":\"system\", \"content\":system_prompt},] + state[\"messages\"]\n",
    "        response = llm.with_structured_output(Router).invoke(messages)\n",
    "        goto = response[\"next\"]\n",
    "    print(\"DIRIGIENDO FLUJO A: \", goto)\n",
    "    if goto == \"FINISH\":\n",
    "        goto = END\n",
    "    \n",
    "    return Command(goto=goto, update = {\"next\":goto})"
   ],
   "id": "95ea9cbf01456f8a",
   "outputs": [],
   "execution_count": 55
  },
  {
   "metadata": {
    "ExecuteTime": {
     "end_time": "2025-06-25T14:02:03.718166Z",
     "start_time": "2025-06-25T14:02:03.473572Z"
    }
   },
   "cell_type": "code",
   "source": [
    "builder = StateGraph(GlobalState)\n",
    "builder.add_edge(START, \"supervisor\")\n",
    "# builder.add_node(\"amparo\", amparo_node)\n",
    "builder.add_node(\"supervisor\", supervisor_node)\n",
    "builder.add_node(\"consultas\",retriever_node)\n",
    "\n",
    "graph =  builder.compile()\n",
    "display(Image(graph.get_graph().draw_mermaid_png()))"
   ],
   "id": "d96272851abe66a9",
   "outputs": [
    {
     "data": {
      "image/png": "[encoded data removed]",
      "text/plain": [
       "<IPython.core.display.Image object>"
      ]
     },
     "metadata": {},
     "output_type": "display_data"
    }
   ],
   "execution_count": 56
  },
  {
   "metadata": {
    "ExecuteTime": {
     "end_time": "2025-06-25T14:02:48.656498Z",
     "start_time": "2025-06-25T14:02:46.923181Z"
    }
   },
   "cell_type": "code",
   "source": [
    "sal = graph.invoke({\"messages\": [\"Hola, tienes pan con queso?\"]})\n",
    "for m in sal[\"messages\"]:\n",
    "    m.pretty_print()"
   ],
   "id": "6d516f50479c6b40",
   "outputs": [
    {
     "name": "stdout",
     "output_type": "stream",
     "text": [
      "Este es el mensaje que recibe el supervisor: \n",
      "\n",
      "['Hola, tienes pan con queso?']\n",
      "ULTIMO AI:  None\n",
      "DIRIGIENDO FLUJO A:  consultas\n",
      "Este es el mensaje que recibe el supervisor: \n",
      "\n",
      "[HumanMessage(content='Hola, tienes pan con queso?', additional_kwargs={}, response_metadata={}, id='24bbbab2-4d1e-4b10-88c0-77988de37293'), AIMessage(content='No tengo pan con queso, pero puedo ayudarte con preguntas sobre recursos humanos o proporcionar información relacionada.', additional_kwargs={'refusal': None}, response_metadata={'token_usage': {'completion_tokens': 20, 'prompt_tokens': 81, 'total_tokens': 101, 'completion_tokens_details': {'accepted_prediction_tokens': 0, 'audio_tokens': 0, 'reasoning_tokens': 0, 'rejected_prediction_tokens': 0}, 'prompt_tokens_details': {'audio_tokens': 0, 'cached_tokens': 0}}, 'model_name': 'gpt-4o-2024-08-06', 'system_fingerprint': 'fp_a288987b44', 'id': 'chatcmpl-BmL04yE0jbAnWt9P238BBraeLNJOP', 'service_tier': 'default', 'finish_reason': 'stop', 'logprobs': None}, id='run--a7f974fa-bb3b-4919-98fb-60ae7f78ec08-0', usage_metadata={'input_tokens': 81, 'output_tokens': 20, 'total_tokens': 101, 'input_token_details': {'audio': 0, 'cache_read': 0}, 'output_token_details': {'audio': 0, 'reasoning': 0}})]\n",
      "ULTIMO AI:  content='No tengo pan con queso, pero puedo ayudarte con preguntas sobre recursos humanos o proporcionar información relacionada.' additional_kwargs={'refusal': None} response_metadata={'token_usage': {'completion_tokens': 20, 'prompt_tokens': 81, 'total_tokens': 101, 'completion_tokens_details': {'accepted_prediction_tokens': 0, 'audio_tokens': 0, 'reasoning_tokens': 0, 'rejected_prediction_tokens': 0}, 'prompt_tokens_details': {'audio_tokens': 0, 'cached_tokens': 0}}, 'model_name': 'gpt-4o-2024-08-06', 'system_fingerprint': 'fp_a288987b44', 'id': 'chatcmpl-BmL04yE0jbAnWt9P238BBraeLNJOP', 'service_tier': 'default', 'finish_reason': 'stop', 'logprobs': None} id='run--a7f974fa-bb3b-4919-98fb-60ae7f78ec08-0' usage_metadata={'input_tokens': 81, 'output_tokens': 20, 'total_tokens': 101, 'input_token_details': {'audio': 0, 'cache_read': 0}, 'output_token_details': {'audio': 0, 'reasoning': 0}}\n",
      "DIRIGIENDO FLUJO A:  FINISH\n",
      "================================\u001B[1m Human Message \u001B[0m=================================\n",
      "\n",
      "Hola, tienes pan con queso?\n",
      "==================================\u001B[1m Ai Message \u001B[0m==================================\n",
      "\n",
      "No tengo pan con queso, pero puedo ayudarte con preguntas sobre recursos humanos o proporcionar información relacionada.\n"
     ]
    }
   ],
   "execution_count": 62
  },
  {
   "metadata": {},
   "cell_type": "code",
   "outputs": [],
   "execution_count": null,
   "source": "",
   "id": "b01e7c0f2b8ad109"
  }
 ],
 "metadata": {
  "kernelspec": {
   "display_name": "Python 3",
   "language": "python",
   "name": "python3"
  },
  "language_info": {
   "codemirror_mode": {
    "name": "ipython",
    "version": 2
   },
   "file_extension": ".py",
   "mimetype": "text/x-python",
   "name": "python",
   "nbconvert_exporter": "python",
   "pygments_lexer": "ipython2",
   "version": "2.7.6"
  }
 },
 "nbformat": 4,
 "nbformat_minor": 5
}
