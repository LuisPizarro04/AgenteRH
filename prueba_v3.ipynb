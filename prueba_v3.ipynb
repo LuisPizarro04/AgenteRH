{
 "cells": [
  {
   "cell_type": "code",
   "id": "initial_id",
   "metadata": {
    "collapsed": true,
    "ExecuteTime": {
     "end_time": "2025-08-01T18:08:45.903278Z",
     "start_time": "2025-08-01T18:08:38.173823Z"
    }
   },
   "source": [
    "%%capture --no-stderr\n",
    "%pip install --quiet -U langchain_openai langchain_core langgraph langchain_community langchain_anthropic langchain_experimental faiss-cpu tiktoken pypdf langchain openai langchain_anthropic langchain_experimental"
   ],
   "outputs": [
    {
     "name": "stderr",
     "output_type": "stream",
     "text": [
      "\n",
      "[notice] A new release of pip is available: 23.2.1 -> 25.1.1\n",
      "[notice] To update, run: python.exe -m pip install --upgrade pip\n"
     ]
    }
   ],
   "execution_count": 1
  },
  {
   "metadata": {
    "ExecuteTime": {
     "end_time": "2025-08-01T18:09:03.726536Z",
     "start_time": "2025-08-01T18:09:01.077323Z"
    }
   },
   "cell_type": "code",
   "source": [
    "# Importación de librerias\n",
    "# LangGraph\n",
    "from langgraph.graph import START, END, StateGraph\n",
    "from langgraph.types import Command\n",
    "from langgraph.prebuilt import create_react_agent\n",
    "\n",
    "# LangChain\n",
    "from langchain_core.messages import HumanMessage\n",
    "from langchain_openai import ChatOpenAI, OpenAIEmbeddings\n",
    "from langchain_community.tools.tavily_search import TavilySearchResults\n",
    "from langchain.tools.retriever import create_retriever_tool\n",
    "from langchain.vectorstores import FAISS\n",
    "from langchain_text_splitters import RecursiveCharacterTextSplitter\n",
    "from langchain_community.document_loaders import PyPDFLoader\n",
    "from langchain_core.prompts import ChatPromptTemplate\n",
    "from langchain_core.messages import AIMessage\n",
    "\n",
    "# Utilidades\n",
    "from typing import TypedDict, Optional, Dict, List, Literal, Annotated\n",
    "from dotenv import load_dotenv, find_dotenv\n",
    "import tiktoken\n",
    "from IPython.display import Image, display"
   ],
   "id": "f55d4dc44dc9623a",
   "outputs": [],
   "execution_count": 2
  },
  {
   "metadata": {
    "ExecuteTime": {
     "end_time": "2025-08-01T18:09:03.742577Z",
     "start_time": "2025-08-01T18:09:03.736249Z"
    }
   },
   "cell_type": "code",
   "source": [
    "# Carga de variables de entorno\n",
    "dotenv_path = find_dotenv()\n",
    "load_dotenv(dotenv_path)"
   ],
   "id": "75fc3a81f4769403",
   "outputs": [
    {
     "data": {
      "text/plain": [
       "True"
      ]
     },
     "execution_count": 3,
     "metadata": {},
     "output_type": "execute_result"
    }
   ],
   "execution_count": 3
  },
  {
   "metadata": {
    "ExecuteTime": {
     "end_time": "2025-08-01T18:09:04.363637Z",
     "start_time": "2025-08-01T18:09:04.358632Z"
    }
   },
   "cell_type": "code",
   "source": [
    "def count_tokens_in_docs(docs, model_name=\"gpt-4o\"):\n",
    "    \"\"\"\n",
    "    Calcula la cantidad total de tokens para una lista de documentos\n",
    "    usando la librería tiktoken.\n",
    "\n",
    "    :param docs: Lista de documentos (por ejemplo, la salida de un loader PDF).\n",
    "    :param model_name: Nombre del modelo para el que queremos simular el conteo.\n",
    "    :return: Número total de tokens en el contenido de los documentos.\n",
    "    \"\"\"\n",
    "    # Obtenemos la codificación que usa el modelo seleccionado\n",
    "    encoding = tiktoken.encoding_for_model(model_name)\n",
    "\n",
    "    total_tokens = 0\n",
    "    for doc in docs:\n",
    "        # doc.page_content es el texto de cada página/documento\n",
    "        text = doc.page_content\n",
    "        total_tokens += len(encoding.encode(text))\n",
    "\n",
    "    return total_tokens"
   ],
   "id": "698b5f9ee7091a37",
   "outputs": [],
   "execution_count": 4
  },
  {
   "metadata": {
    "ExecuteTime": {
     "end_time": "2025-08-01T18:09:05.105076Z",
     "start_time": "2025-08-01T18:09:04.918683Z"
    }
   },
   "cell_type": "code",
   "source": [
    "# 2. CARGA DEL PDF\n",
    "# ----------------------------------------------------------------------------\n",
    "file_path = \"embeddings/manual_rrhh.pdf\"\n",
    "loader = PyPDFLoader(file_path)\n",
    "docs = loader.load()"
   ],
   "id": "8dc70f92890e01b3",
   "outputs": [],
   "execution_count": 5
  },
  {
   "metadata": {
    "ExecuteTime": {
     "end_time": "2025-08-01T18:09:05.488418Z",
     "start_time": "2025-08-01T18:09:05.483406Z"
    }
   },
   "cell_type": "code",
   "source": [
    "# Cantidad de documentos extraídos (páginas, secciones, etc. según PyPDFLoader)\n",
    "print(\"Número de docs cargados:\", len(docs))\n",
    "\n",
    "# Opcional: vista previa de los primeros 100 caracteres de la primera página\n",
    "print(\"Preview contenido:\", docs[0].page_content[0:100])\n",
    "print(\"Metadata:\", docs[0].metadata)"
   ],
   "id": "5b9c41c910da8a1c",
   "outputs": [
    {
     "name": "stdout",
     "output_type": "stream",
     "text": [
      "Número de docs cargados: 1\n",
      "Preview contenido: MANUAL DE RRHH - ICPACIFICO\n",
      "1. VACACIONES\n",
      "Todo trabajador tiene derecho a 15 días hábiles de vacacio\n",
      "Metadata: {'producer': 'PyFPDF 1.7.2 http://pyfpdf.googlecode.com/', 'creator': 'PyPDF', 'creationdate': 'D:20250624201848', 'source': 'embeddings/manual_rrhh.pdf', 'total_pages': 1, 'page': 0, 'page_label': '1'}\n"
     ]
    }
   ],
   "execution_count": 6
  },
  {
   "metadata": {
    "ExecuteTime": {
     "end_time": "2025-08-01T18:09:06.574294Z",
     "start_time": "2025-08-01T18:09:06.260718Z"
    }
   },
   "cell_type": "code",
   "source": [
    "# 3. CONTAR TOKENS ANTES DE HACER NADA\n",
    "# ----------------------------------------------------------------------------\n",
    "tokens_en_documento = count_tokens_in_docs(docs, model_name=\"gpt-4o\")\n",
    "print(\"Tokens en el documento completo:\", tokens_en_documento)"
   ],
   "id": "6853d179f756cffc",
   "outputs": [
    {
     "name": "stdout",
     "output_type": "stream",
     "text": [
      "Tokens en el documento completo: 172\n"
     ]
    }
   ],
   "execution_count": 7
  },
  {
   "metadata": {
    "ExecuteTime": {
     "end_time": "2025-08-01T18:09:06.660775Z",
     "start_time": "2025-08-01T18:09:06.656901Z"
    }
   },
   "cell_type": "code",
   "source": [
    "text_splitter = RecursiveCharacterTextSplitter(chunk_size=500, chunk_overlap=100)\n",
    "splits = text_splitter.split_documents(docs)"
   ],
   "id": "2ababb579f7ce3ca",
   "outputs": [],
   "execution_count": 8
  },
  {
   "metadata": {
    "ExecuteTime": {
     "end_time": "2025-08-01T18:09:10.140481Z",
     "start_time": "2025-08-01T18:09:07.418875Z"
    }
   },
   "cell_type": "code",
   "source": [
    "# Crea los embeddings\n",
    "embeddings = OpenAIEmbeddings()\n",
    "vectorstore = FAISS.from_documents(splits, embeddings)\n",
    "\n",
    "# Crea el retriever\n",
    "# retriever = vectorstore.as_retriever(search_kwargs={\"k\": 3})\n",
    "retriever = vectorstore.as_retriever(search_kwargs={\"k\": 10, \"score_threshold\": 0.3})"
   ],
   "id": "37409a6e0761a3b4",
   "outputs": [],
   "execution_count": 9
  },
  {
   "metadata": {
    "ExecuteTime": {
     "end_time": "2025-08-01T18:09:10.671438Z",
     "start_time": "2025-08-01T18:09:10.144929Z"
    }
   },
   "cell_type": "code",
   "source": [
    "# Modelo utilizado\n",
    "llm = ChatOpenAI(model=\"gpt-4o\")"
   ],
   "id": "dbf6cb9da723df2d",
   "outputs": [],
   "execution_count": 10
  },
  {
   "metadata": {
    "ExecuteTime": {
     "end_time": "2025-08-01T18:09:10.682893Z",
     "start_time": "2025-08-01T18:09:10.679892Z"
    }
   },
   "cell_type": "code",
   "source": [
    "# Creación del estado\n",
    "class GlobalState(TypedDict): # Estado Globa\n",
    "    graph: str\n",
    "    messages: list[dict] # Es una lista de diccionarios\n",
    "    next: str"
   ],
   "id": "7cb5af8abf7d5ff",
   "outputs": [],
   "execution_count": 11
  },
  {
   "metadata": {
    "ExecuteTime": {
     "end_time": "2025-08-01T18:09:13.834391Z",
     "start_time": "2025-08-01T18:09:13.831344Z"
    }
   },
   "cell_type": "code",
   "source": [
    "# Miembros del equipo\n",
    "members = [\"consultas\", \"amparo\"]\n",
    "# members = [\"consultas\"]\n",
    "options = members + [\"FINISH\"]"
   ],
   "id": "fea47643adf71361",
   "outputs": [],
   "execution_count": 12
  },
  {
   "metadata": {
    "ExecuteTime": {
     "end_time": "2025-08-01T18:09:14.837862Z",
     "start_time": "2025-08-01T18:09:14.833410Z"
    }
   },
   "cell_type": "code",
   "source": [
    "# Router con opciones para el llm\n",
    "class Router(TypedDict):\n",
    "    \"\"\"Worker to route to next. If no workers needed, route to FINISH.\"\"\"\n",
    "\n",
    "    next: Literal[\"consultas\", \"amparo\", \"FINISH\"]\n",
    "#     next: Literal[\"consultas\", \"FINISH\"]\n"
   ],
   "id": "3cab456732da12e2",
   "outputs": [],
   "execution_count": 13
  },
  {
   "metadata": {
    "ExecuteTime": {
     "end_time": "2025-08-01T18:09:15.391108Z",
     "start_time": "2025-08-01T18:09:15.380632Z"
    }
   },
   "cell_type": "code",
   "source": [
    "# Definir un nodo info o agent principal\n",
    "system_prompt_amparo = \"Eres Amparo una asistente virtual de recursos humanos creado para responder los saludos de nuestros trabajadores. Para responder a los saludos de los usuarios como, Hola, Buenas tardes, Necesito ayuda, responde con [Hola soy Amparo asistente virtual del Equipo de desarrollo Humano. ¿En que te puedo ayudar? o con algun mensale de saludo y presentación con esas caracteristicas. No respondas nada que esté fuera de este contexto.\"\n",
    "info_agent = create_react_agent(\n",
    "    llm,\n",
    "    tools=[],\n",
    "    prompt=ChatPromptTemplate.from_messages([\n",
    "        (\"system\", system_prompt_amparo),\n",
    "        (\"human\", \"{messages}\")\n",
    "    ])\n",
    ")\n",
    "\n",
    "def amparo_node(state: GlobalState) -> Command[Literal[\"supervisor\"]]:\n",
    "#def amparo_node(state: GlobalState) -> Command[Literal[\"__end__\"]]:\n",
    "    result = info_agent.invoke(state)\n",
    "    print(\"RESPUESTA DE Amparo: \\n\")\n",
    "    print(result[\"messages\"])\n",
    "    return Command(\n",
    "        goto=\"supervisor\",\n",
    "        update={\"messages\": result[\"messages\"]}\n",
    "    )"
   ],
   "id": "63669fd9a3ce4e54",
   "outputs": [],
   "execution_count": 14
  },
  {
   "metadata": {
    "ExecuteTime": {
     "end_time": "2025-08-01T18:09:16.397335Z",
     "start_time": "2025-08-01T18:09:16.394329Z"
    }
   },
   "cell_type": "code",
   "source": [
    "# Crea una herramienta a partir del retriever\n",
    "retriever_tool = create_retriever_tool(\n",
    "    retriever,\n",
    "    name=\"info_retriever\",\n",
    "    description=\"Busca información en el pdf para responder a las preguntas de los trabajadores.\"\n",
    ")"
   ],
   "id": "66f3f4153b4b2a63",
   "outputs": [],
   "execution_count": 15
  },
  {
   "metadata": {
    "ExecuteTime": {
     "end_time": "2025-08-01T18:09:16.887177Z",
     "start_time": "2025-08-01T18:09:16.875199Z"
    }
   },
   "cell_type": "code",
   "source": [
    "# Crea el agente con la herramienta\n",
    "retriever_agent = create_react_agent(\n",
    "    llm,\n",
    "    tools=[retriever_tool],\n",
    "    prompt=\"Eres un agente experto en responder preguntas sobre recursos humanos,\"\n",
    ")"
   ],
   "id": "1e522b08080fcbf2",
   "outputs": [],
   "execution_count": 16
  },
  {
   "metadata": {
    "ExecuteTime": {
     "end_time": "2025-08-01T18:09:17.521238Z",
     "start_time": "2025-08-01T18:09:17.517156Z"
    }
   },
   "cell_type": "code",
   "source": [
    "def retriever_node(state: GlobalState) -> Command[Literal[\"__end__\"]]:\n",
    "    result = retriever_agent.invoke(state)\n",
    "    return Command(\n",
    "        goto=\"supervisor\",\n",
    "        update={\n",
    "            \"messages\": result[\"messages\"]\n",
    "        }\n",
    "    )"
   ],
   "id": "68e1eb61d8f116f",
   "outputs": [],
   "execution_count": 17
  },
  {
   "metadata": {
    "ExecuteTime": {
     "end_time": "2025-08-01T18:09:18.413702Z",
     "start_time": "2025-08-01T18:09:18.410414Z"
    }
   },
   "cell_type": "code",
   "source": [
    "system_prompt = (\n",
    "    \"Tu nombre es Amparo, una agente virtual que apoya las gestiones del área de Recursos Humanos \"\n",
    "    \"de la empresa Inmobiliaria Costanera Pacífico. Tu función principal es analizar las solicitudes de los trabajadores \"\n",
    "    f\"y derivarlas a los siguientes agentes especializados: {members}.\\n\\n\"\n",
    "\n",
    "    \"El agente especializado 'consultas' se encarga de responder preguntas sobre normativa interna, beneficios, reglamentos, \"\n",
    "    \"y cualquier otro aspecto relacionado con Recursos Humanos, utilizando como fuente un documento PDF que contiene la información oficial.\\n\\n\"\n",
    "\n",
    "    \"Tu tarea es analizar el mensaje del trabajador y decidir qué agente debe actuar en función de la solicitud.\\n\"\n",
    "    \"Si la solicitud es general o informal, selecciona el agente más apropiado para responder o investigar.\\n\"\n",
    "    \"Si ya se resolvió completamente, responde únicamente con 'FINISH'.\\n\\n\"\n",
    "\n",
    "    \"Devuelve **únicamente** el nombre del agente a activar (por ejemplo: consultas), o 'FINISH' si todo ha concluido.\"\n",
    ")\n"
   ],
   "id": "5c677bb735e2ee5f",
   "outputs": [],
   "execution_count": 18
  },
  {
   "metadata": {
    "ExecuteTime": {
     "end_time": "2025-08-01T18:09:18.941129Z",
     "start_time": "2025-08-01T18:09:18.936176Z"
    }
   },
   "cell_type": "code",
   "source": [
    "# def supervisor_node(state: GlobalState) -> Command[Literal[\"consultas\",\"__end__\"]]:\n",
    "def supervisor_node(state: GlobalState) -> Command[Literal[\"consultas\",\"amparo\", \"__end__\"]]:\n",
    "    print(\"Este es el mensaje que recibe el supervisor: \\n\")\n",
    "    print(state[\"messages\"])\n",
    "    ultimo_ai = next((msg for msg in reversed(state[\"messages\"]) if isinstance(msg, AIMessage)), None)\n",
    "    print(\"ULTIMO AI: \", ultimo_ai)\n",
    "    # if ultimo_ai:\n",
    "    if isinstance(state[\"messages\"][-1], AIMessage):\n",
    "        # ultimo_ai= ultimo_ai.content\n",
    "        # ultimo_ai= list(ultimo_ai)\n",
    "        # messages = [{\"role\":\"system\", \"content\":system_prompt},] + ultimo_ai\n",
    "        goto = \"FINISH\"\n",
    "    else:\n",
    "        messages = [{\"role\":\"system\", \"content\":system_prompt},] + state[\"messages\"]\n",
    "        response = llm.with_structured_output(Router).invoke(messages)\n",
    "        goto = response[\"next\"]\n",
    "    print(\"DIRIGIENDO FLUJO A: \", goto)\n",
    "    if goto == \"FINISH\":\n",
    "        goto = END\n",
    "    \n",
    "    return Command(goto=goto, update = {\"next\":goto})"
   ],
   "id": "95ea9cbf01456f8a",
   "outputs": [],
   "execution_count": 19
  },
  {
   "metadata": {
    "ExecuteTime": {
     "end_time": "2025-08-01T18:09:21.156705Z",
     "start_time": "2025-08-01T18:09:20.959342Z"
    }
   },
   "cell_type": "code",
   "source": [
    "builder = StateGraph(GlobalState)\n",
    "builder.add_edge(START, \"supervisor\")\n",
    "builder.add_node(\"amparo\", amparo_node)\n",
    "builder.add_node(\"supervisor\", supervisor_node)\n",
    "builder.add_node(\"consultas\",retriever_node)\n",
    "\n",
    "graph =  builder.compile()\n",
    "display(Image(graph.get_graph().draw_mermaid_png()))"
   ],
   "id": "d96272851abe66a9",
   "outputs": [
    {
     "data": {
      "image/png": "[encoded data removed]",
      "text/plain": [
       "<IPython.core.display.Image object>"
      ]
     },
     "metadata": {},
     "output_type": "display_data"
    }
   ],
   "execution_count": 20
  },
  {
   "metadata": {
    "ExecuteTime": {
     "end_time": "2025-08-01T18:09:29.044679Z",
     "start_time": "2025-08-01T18:09:23.982644Z"
    }
   },
   "cell_type": "code",
   "source": [
    "sal = graph.invoke({\"messages\": [\"Hola, quisiera solicitar un certificado de antiguedad\"]})\n",
    "for m in sal[\"messages\"]:\n",
    "    m.pretty_print()"
   ],
   "id": "6d516f50479c6b40",
   "outputs": [
    {
     "name": "stdout",
     "output_type": "stream",
     "text": [
      "Este es el mensaje que recibe el supervisor: \n",
      "\n",
      "['Hola, quisiera solicitar un certificado de antiguedad']\n",
      "ULTIMO AI:  None\n",
      "DIRIGIENDO FLUJO A:  amparo\n",
      "RESPUESTA DE Amparo: \n",
      "\n",
      "[HumanMessage(content='Hola, quisiera solicitar un certificado de antiguedad', additional_kwargs={}, response_metadata={}, id='0cff10c0-9230-4bb1-9e52-0495d9a852cf'), AIMessage(content='Hola soy Amparo, asistente virtual del Equipo de Desarrollo Humano. ¿En qué te puedo ayudar?', additional_kwargs={'refusal': None}, response_metadata={'token_usage': {'completion_tokens': 22, 'prompt_tokens': 151, 'total_tokens': 173, 'completion_tokens_details': {'accepted_prediction_tokens': 0, 'audio_tokens': 0, 'reasoning_tokens': 0, 'rejected_prediction_tokens': 0}, 'prompt_tokens_details': {'audio_tokens': 0, 'cached_tokens': 0}}, 'model_name': 'gpt-4o-2024-08-06', 'system_fingerprint': 'fp_07871e2ad8', 'id': 'chatcmpl-BzoU4A5uCvQO12i8Hn4UyfU0PK1Wt', 'service_tier': 'default', 'finish_reason': 'stop', 'logprobs': None}, id='run--337c456d-ee98-4662-a491-9c76ca00c211-0', usage_metadata={'input_tokens': 151, 'output_tokens': 22, 'total_tokens': 173, 'input_token_details': {'audio': 0, 'cache_read': 0}, 'output_token_details': {'audio': 0, 'reasoning': 0}})]\n",
      "Este es el mensaje que recibe el supervisor: \n",
      "\n",
      "[HumanMessage(content='Hola, quisiera solicitar un certificado de antiguedad', additional_kwargs={}, response_metadata={}, id='0cff10c0-9230-4bb1-9e52-0495d9a852cf'), AIMessage(content='Hola soy Amparo, asistente virtual del Equipo de Desarrollo Humano. ¿En qué te puedo ayudar?', additional_kwargs={'refusal': None}, response_metadata={'token_usage': {'completion_tokens': 22, 'prompt_tokens': 151, 'total_tokens': 173, 'completion_tokens_details': {'accepted_prediction_tokens': 0, 'audio_tokens': 0, 'reasoning_tokens': 0, 'rejected_prediction_tokens': 0}, 'prompt_tokens_details': {'audio_tokens': 0, 'cached_tokens': 0}}, 'model_name': 'gpt-4o-2024-08-06', 'system_fingerprint': 'fp_07871e2ad8', 'id': 'chatcmpl-BzoU4A5uCvQO12i8Hn4UyfU0PK1Wt', 'service_tier': 'default', 'finish_reason': 'stop', 'logprobs': None}, id='run--337c456d-ee98-4662-a491-9c76ca00c211-0', usage_metadata={'input_tokens': 151, 'output_tokens': 22, 'total_tokens': 173, 'input_token_details': {'audio': 0, 'cache_read': 0}, 'output_token_details': {'audio': 0, 'reasoning': 0}})]\n",
      "ULTIMO AI:  content='Hola soy Amparo, asistente virtual del Equipo de Desarrollo Humano. ¿En qué te puedo ayudar?' additional_kwargs={'refusal': None} response_metadata={'token_usage': {'completion_tokens': 22, 'prompt_tokens': 151, 'total_tokens': 173, 'completion_tokens_details': {'accepted_prediction_tokens': 0, 'audio_tokens': 0, 'reasoning_tokens': 0, 'rejected_prediction_tokens': 0}, 'prompt_tokens_details': {'audio_tokens': 0, 'cached_tokens': 0}}, 'model_name': 'gpt-4o-2024-08-06', 'system_fingerprint': 'fp_07871e2ad8', 'id': 'chatcmpl-BzoU4A5uCvQO12i8Hn4UyfU0PK1Wt', 'service_tier': 'default', 'finish_reason': 'stop', 'logprobs': None} id='run--337c456d-ee98-4662-a491-9c76ca00c211-0' usage_metadata={'input_tokens': 151, 'output_tokens': 22, 'total_tokens': 173, 'input_token_details': {'audio': 0, 'cache_read': 0}, 'output_token_details': {'audio': 0, 'reasoning': 0}}\n",
      "DIRIGIENDO FLUJO A:  FINISH\n",
      "================================\u001B[1m Human Message \u001B[0m=================================\n",
      "\n",
      "Hola, quisiera solicitar un certificado de antiguedad\n",
      "==================================\u001B[1m Ai Message \u001B[0m==================================\n",
      "\n",
      "Hola soy Amparo, asistente virtual del Equipo de Desarrollo Humano. ¿En qué te puedo ayudar?\n"
     ]
    }
   ],
   "execution_count": 21
  },
  {
   "metadata": {},
   "cell_type": "code",
   "outputs": [],
   "execution_count": null,
   "source": "",
   "id": "b01e7c0f2b8ad109"
  }
 ],
 "metadata": {
  "kernelspec": {
   "display_name": "Python 3",
   "language": "python",
   "name": "python3"
  },
  "language_info": {
   "codemirror_mode": {
    "name": "ipython",
    "version": 2
   },
   "file_extension": ".py",
   "mimetype": "text/x-python",
   "name": "python",
   "nbconvert_exporter": "python",
   "pygments_lexer": "ipython2",
   "version": "2.7.6"
  }
 },
 "nbformat": 4,
 "nbformat_minor": 5
}
